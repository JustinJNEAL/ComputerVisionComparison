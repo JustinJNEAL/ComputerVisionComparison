{
 "cells": [
  {
   "cell_type": "code",
   "execution_count": null,
   "metadata": {
    "ExecuteTime": {
     "end_time": "2020-11-27T14:25:50.673756Z",
     "start_time": "2020-11-27T14:24:25.022494Z"
    }
   },
   "outputs": [],
   "source": [
    "from os import listdir\n",
    "from os.path import isfile, join\n",
    "import re\n",
    "import matplotlib.pyplot as plt\n",
    "import numpy as np\n",
    "import sklearn\n",
    "from sklearn import svm, metrics\n",
    "from sklearn.model_selection import train_test_split, GridSearchCV\n",
    "from skimage import color\n",
    "from skimage.transform import resize\n",
    "import seaborn as sns"
   ]
  },
  {
   "cell_type": "code",
   "execution_count": null,
   "metadata": {
    "ExecuteTime": {
     "end_time": "2020-11-27T14:30:12.446456Z",
     "start_time": "2020-11-27T14:25:51.011506Z"
    }
   },
   "outputs": [],
   "source": [
    "# Preprocessing of training data\n",
    "butterfly_path = './animals/butterfly/'\n",
    "cat_path = './animals/cat/'\n",
    "chicken_path = './animals/chicken/'\n",
    "cow_path = './animals/cow/'\n",
    "dog_path = './animals/dog/'\n",
    "elephant_path = './animals/elephant/'\n",
    "horse_path = './animals/horse/'\n",
    "sheep_path = './animals/sheep/'\n",
    "spider_path = './animals/spider/'\n",
    "squirrel_path = './animals/squirrel/'\n",
    "butterfly_files = [f for f in listdir(butterfly_path) if isfile(join(butterfly_path, f))]\n",
    "cat_files = [f for f in listdir(cat_path) if isfile(join(cat_path, f))]\n",
    "chicken_files = [f for f in listdir(chicken_path) if isfile(join(chicken_path, f))]\n",
    "cow_files = [f for f in listdir(cow_path) if isfile(join(cow_path, f))]\n",
    "dog_files = [f for f in listdir(dog_path) if isfile(join(dog_path, f))]\n",
    "elephant_files = [f for f in listdir(elephant_path) if isfile(join(elephant_path, f))]\n",
    "horse_files = [f for f in listdir(horse_path) if isfile(join(horse_path, f))]\n",
    "sheep_files = [f for f in listdir(sheep_path) if isfile(join(sheep_path, f))]\n",
    "spider_files = [f for f in listdir(spider_path) if isfile(join(spider_path, f))]\n",
    "squirrel_files = [f for f in listdir(squirrel_path) if isfile(join(squirrel_path, f))]\n",
    "X_train = []\n",
    "y_train = []\n",
    "\n",
    "# Convert images to arrays and append labels to list\n",
    "for file in butterfly_files:\n",
    "    img_path = butterfly_path + file\n",
    "    y_train.append(0) # butterfly\n",
    "    img = plt.imread(img_path)\n",
    "    if (img.shape[-1] == 3):\n",
    "        grey_img = color.rgb2gray(img)\n",
    "    elif (img.shape[-1] == 4):\n",
    "        grey_img = color.rgb2gray(color.rgba2rgb(img))\n",
    "    resized_img = resize(grey_img, (100, 100))\n",
    "    X_train.append(resized_img)\n",
    "for file in cat_files:\n",
    "    img_path = cat_path + file\n",
    "    y_train.append(1) # cat\n",
    "    img = plt.imread(img_path)\n",
    "    if (img.shape[-1] == 3):\n",
    "        grey_img = color.rgb2gray(img)\n",
    "    elif (img.shape[-1] == 4):\n",
    "        grey_img = color.rgb2gray(color.rgba2rgb(img))\n",
    "    resized_img = resize(grey_img, (100, 100))\n",
    "    X_train.append(resized_img)\n",
    "for file in chicken_files:\n",
    "    img_path = chicken_path + file\n",
    "    y_train.append(2) # chicken\n",
    "    img = plt.imread(img_path)\n",
    "    if (img.shape[-1] == 3):\n",
    "        grey_img = color.rgb2gray(img)\n",
    "    elif (img.shape[-1] == 4):\n",
    "        grey_img = color.rgb2gray(color.rgba2rgb(img))\n",
    "    resized_img = resize(grey_img, (100, 100))\n",
    "    X_train.append(resized_img)\n",
    "for file in cow_files:\n",
    "    img_path = cow_path + file\n",
    "    y_train.append(3) # cow\n",
    "    img = plt.imread(img_path)\n",
    "    if (img.shape[-1] == 3):\n",
    "        grey_img = color.rgb2gray(img)\n",
    "    elif (img.shape[-1] == 4):\n",
    "        grey_img = color.rgb2gray(color.rgba2rgb(img))\n",
    "    resized_img = resize(grey_img, (100, 100))\n",
    "    X_train.append(resized_img)\n",
    "for file in dog_files:\n",
    "    img_path = dog_path + file\n",
    "    y_train.append(4) # dog\n",
    "    img = plt.imread(img_path)\n",
    "    if (img.shape[-1] == 3):\n",
    "        grey_img = color.rgb2gray(img)\n",
    "    elif (img.shape[-1] == 4):\n",
    "        grey_img = color.rgb2gray(color.rgba2rgb(img))\n",
    "    resized_img = resize(grey_img, (100, 100))\n",
    "    X_train.append(resized_img)\n",
    "for file in elephant_files:\n",
    "    img_path = elephant_path + file\n",
    "    y_train.append(5) # elephant\n",
    "    img = plt.imread(img_path)\n",
    "    if (img.shape[-1] == 3):\n",
    "        grey_img = color.rgb2gray(img)\n",
    "    elif (img.shape[-1] == 4):\n",
    "        grey_img = color.rgb2gray(color.rgba2rgb(img))\n",
    "    resized_img = resize(grey_img, (100, 100))\n",
    "    X_train.append(resized_img)\n",
    "for file in horse_files:\n",
    "    img_path = horse_path + file\n",
    "    y_train.append(6) # horse\n",
    "    img = plt.imread(img_path)\n",
    "    if (img.shape[-1] == 3):\n",
    "        grey_img = color.rgb2gray(img)\n",
    "    elif (img.shape[-1] == 4):\n",
    "        grey_img = color.rgb2gray(color.rgba2rgb(img))\n",
    "    resized_img = resize(grey_img, (100, 100))\n",
    "    X_train.append(resized_img)\n",
    "for file in sheep_files:\n",
    "    img_path = sheep_path + file\n",
    "    y_train.append(7) # sheep\n",
    "    img = plt.imread(img_path)\n",
    "    if (img.shape[-1] == 3):\n",
    "        grey_img = color.rgb2gray(img)\n",
    "    elif (img.shape[-1] == 4):\n",
    "        grey_img = color.rgb2gray(color.rgba2rgb(img))\n",
    "    resized_img = resize(grey_img, (100, 100))\n",
    "    X_train.append(resized_img)\n",
    "for file in spider_files:\n",
    "    img_path = spider_path + file\n",
    "    y_train.append(8)  # spider\n",
    "    img = plt.imread(img_path)\n",
    "    if (img.shape[-1] == 3):\n",
    "        grey_img = color.rgb2gray(img)\n",
    "    elif (img.shape[-1] == 4):\n",
    "        grey_img = color.rgb2gray(color.rgba2rgb(img))\n",
    "    resized_img = resize(grey_img, (100, 100))\n",
    "    X_train.append(resized_img)\n",
    "for file in squirrel_files:\n",
    "    img_path = squirrel_path + file\n",
    "    y_train.append(9) # squirrel\n",
    "    img = plt.imread(img_path)\n",
    "    if (img.shape[-1] == 3):\n",
    "        grey_img = color.rgb2gray(img)\n",
    "    elif (img.shape[-1] == 4):\n",
    "        grey_img = color.rgb2gray(color.rgba2rgb(img))\n",
    "    resized_img = resize(grey_img, (100, 100))\n",
    "    X_train.append(resized_img)\n",
    "\n",
    "X_train = np.array(X_train)\n",
    "y_train = np.array(y_train)"
   ]
  },
  {
   "cell_type": "code",
   "execution_count": null,
   "metadata": {
    "ExecuteTime": {
     "end_time": "2020-11-27T14:33:38.969454Z",
     "start_time": "2020-11-27T14:30:12.447922Z"
    }
   },
   "outputs": [],
   "source": [
    "# Preprocessing for testing data\n",
    "path = './cats/'\n",
    "files = [f for f in listdir(path) if isfile(join(path, f))]\n",
    "X_test = []\n",
    "y_test = []\n",
    "\n",
    "# Convert images to arrays and append labels to list\n",
    "for file in files:\n",
    "    img_path = path + file\n",
    "    y_test.append(1) # match label to training data\n",
    "    img = plt.imread(img_path)\n",
    "    if (img.shape[-1] == 3):\n",
    "        grey_img = color.rgb2gray(img)\n",
    "    elif (img.shape[-1] == 4):\n",
    "        grey_img = color.rgb2gray(color.rgba2rgb(img))\n",
    "    resized_img = resize(grey_img, (100, 100))\n",
    "    X_test.append(resized_img)\n",
    "    \n",
    "X_test = np.array(X_test)\n",
    "y_test = np.array(y_test)"
   ]
  },
  {
   "cell_type": "code",
   "execution_count": null,
   "metadata": {
    "ExecuteTime": {
     "end_time": "2020-11-27T14:33:41.076347Z",
     "start_time": "2020-11-27T14:33:38.971000Z"
    }
   },
   "outputs": [],
   "source": [
    "# Shuffle training data and labels\n",
    "new_X_train, new_y_train = sklearn.utils.shuffle(X_train, y_train, random_state = 0)"
   ]
  },
  {
   "cell_type": "code",
   "execution_count": null,
   "metadata": {
    "ExecuteTime": {
     "end_time": "2020-11-27T14:33:41.088844Z",
     "start_time": "2020-11-27T14:33:41.083400Z"
    }
   },
   "outputs": [],
   "source": [
    "print(\"Train Images: \", X_train.shape, \"\\nTrain Labels: \", y_train.shape)\n",
    "print(\"\\nTest Images: \", X_test.shape, \"\\nTest Labels: \", y_test.shape)"
   ]
  },
  {
   "cell_type": "code",
   "execution_count": null,
   "metadata": {
    "ExecuteTime": {
     "end_time": "2020-11-27T14:33:41.461385Z",
     "start_time": "2020-11-27T14:33:41.090430Z"
    }
   },
   "outputs": [],
   "source": [
    "# Observe set of training data\n",
    "plt.figure(figsize = (8, 8))\n",
    "for i in range(9):\n",
    "    plt.subplot(3, 3, i + 1)\n",
    "    plt.xticks([])\n",
    "    plt.yticks([])\n",
    "    plt.grid(False)\n",
    "    plt.imshow(new_X_train[i], cmap = plt.cm.gray)\n",
    "plt.show()"
   ]
  },
  {
   "cell_type": "code",
   "execution_count": null,
   "metadata": {},
   "outputs": [],
   "source": [
    "# Observe set of testing data\n",
    "plt.figure(figsize = (8, 8))\n",
    "for i in range(9):\n",
    "    plt.subplot(3, 3, i + 1)\n",
    "    plt.xticks([])\n",
    "    plt.yticks([])\n",
    "    plt.grid(False)\n",
    "    plt.imshow(X_test[i], cmap = plt.cm.gray)\n",
    "plt.show()"
   ]
  },
  {
   "cell_type": "code",
   "execution_count": null,
   "metadata": {
    "ExecuteTime": {
     "end_time": "2020-11-27T14:33:41.472962Z",
     "start_time": "2020-11-27T14:33:41.466677Z"
    }
   },
   "outputs": [],
   "source": [
    "# Reshape data\n",
    "new_X_train = new_X_train.reshape((len(new_X_train), -1))\n",
    "X_test = X_test.reshape((len(X_test), -1))"
   ]
  },
  {
   "cell_type": "code",
   "execution_count": null,
   "metadata": {
    "ExecuteTime": {
     "end_time": "2020-11-27T17:04:31.178137Z",
     "start_time": "2020-11-27T17:02:00.219294Z"
    }
   },
   "outputs": [],
   "source": [
    "# Find best parameters\n",
    "#params = {'C': [2**-5, 2**-3, 2**-1, 1, 2, 2**3], 'gamma': [2**-15, 2**-13, 2**-11, 2**-9], 'kernel': ['rbf']}\n",
    "#clf = GridSearchCV(svm.SVC(class_weight = 'balanced'), params)\n",
    "#grid_clf = clf.fit(new_X_train[0:1000], new_y_train[0:1000])\n",
    "#print(grid_clf.best_estimator_)"
   ]
  },
  {
   "cell_type": "code",
   "execution_count": null,
   "metadata": {
    "ExecuteTime": {
     "end_time": "2020-11-27T21:19:11.236601Z",
     "start_time": "2020-11-27T17:29:16.146480Z"
    }
   },
   "outputs": [],
   "source": [
    "# Train the model\n",
    "classifier = svm.SVC(C = 2**3, kernel = 'rbf', gamma = 2**-9)\n",
    "classifier.fit(new_X_train, new_y_train)"
   ]
  },
  {
   "cell_type": "code",
   "execution_count": null,
   "metadata": {
    "ExecuteTime": {
     "end_time": "2020-11-27T21:58:44.472163Z",
     "start_time": "2020-11-27T21:19:11.238155Z"
    }
   },
   "outputs": [],
   "source": [
    "predicted = classifier.predict(X_test)"
   ]
  },
  {
   "cell_type": "code",
   "execution_count": null,
   "metadata": {
    "ExecuteTime": {
     "end_time": "2020-11-27T22:39:27.680640Z",
     "start_time": "2020-11-27T21:59:52.666773Z"
    }
   },
   "outputs": [],
   "source": [
    "print(\"Classification Report for %s:\\n\\n%s\\n\" % (classifier, metrics.classification_report(y_test, predicted)))"
   ]
  },
  {
   "cell_type": "code",
   "execution_count": null,
   "metadata": {},
   "outputs": [],
   "source": [
    "labels = ['butterfly', 'cat', 'chicken', 'cow', 'dog', 'elephant', 'horse', 'sheep', 'spider', 'squirrel']\n",
    "cm = metrics.confusion_matrix(y_test, predicted)\n",
    "fig, ax = plt.subplots(figsize = (15, 10))\n",
    "ax = sns.heatmap(cm, annot = True, fmt = 'd', ax = ax, cmap = 'viridis')\n",
    "ax.set_xlabel('Predicted Label')\n",
    "ax.set_ylabel('True Label')\n",
    "ax.set_xticks([0, 1, 2, 3, 4, 5, 6, 7, 8, 9])\n",
    "ax.set_xticklabels(labels)\n",
    "ax.set_yticks([0, 1, 2, 3, 4, 5, 6, 7, 8, 9])\n",
    "ax.set_yticklabels(labels)\n",
    "ax.set_title('Confusion Matrix')\n",
    "plt.setp(ax.get_xticklabels(), horizontalalignment = 'left', rotation = 45)\n",
    "plt.setp(ax.get_yticklabels(), verticalalignment = 'top', rotation = -45)\n",
    "\n",
    "#plt.savefig('animals_svm_cm.png', bbox_inches = 'tight')\n",
    "plt.show()"
   ]
  }
 ],
 "metadata": {
  "kernelspec": {
   "display_name": "Python 3",
   "language": "python",
   "name": "python3"
  },
  "language_info": {
   "codemirror_mode": {
    "name": "ipython",
    "version": 3
   },
   "file_extension": ".py",
   "mimetype": "text/x-python",
   "name": "python",
   "nbconvert_exporter": "python",
   "pygments_lexer": "ipython3",
   "version": "3.7.6"
  }
 },
 "nbformat": 4,
 "nbformat_minor": 4
}
